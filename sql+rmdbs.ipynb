{
 "cells": [
  {
   "cell_type": "markdown",
   "metadata": {},
   "source": [
    "# SQL and RDBMS"
   ]
  },
  {
   "cell_type": "markdown",
   "metadata": {},
   "source": [
    " * Data is generally stored in databases, rather than in flat files\n",
    "     * Reduced redundancy\n",
    "     * More consistent\n",
    "     * Better backups!\n",
    "     * Data entry/storage/retrieval is more efficient"
   ]
  },
  {
   "cell_type": "markdown",
   "metadata": {},
   "source": [
    "There are many types of databases!\n",
    "\n",
    " * Sometimes, data is stored in tabular formats\n",
    " * Sometimes as documents (hierarchical)\n",
    " * Sometimes as a graph (network-based)\n",
    "\n",
    "Today, we will look at Relational Database Management Systems (RDBMS)"
   ]
  },
  {
   "cell_type": "markdown",
   "metadata": {},
   "source": [
    "![](./assets/relational_model.png)"
   ]
  },
  {
   "cell_type": "markdown",
   "metadata": {},
   "source": [
    "## Characteristics of a Relational Database"
   ]
  },
  {
   "cell_type": "markdown",
   "metadata": {},
   "source": [
    " * Data are stored as tables (Rows and Columns)\n",
    " * All values are scalar (each row/column entry has exactly 1 value)\n",
    " * Each column has exactly 1 type (numeric, text, etc.)\n",
    " * Tables have Key columns, which are used to index the table\n",
    " * A Primary key is a column (or set of columns) that *uniquely* identifies a row in a table.\n",
    "     * Must be unique\n",
    "     * cannot be NULL\n",
    " * A Foreign key is a column whose value is required to match the primary key of another table"
   ]
  },
  {
   "cell_type": "markdown",
   "metadata": {},
   "source": [
    "## Benefits of the Relational Model\n",
    "\n",
    " * Data is easy to retrieve and query\n",
    " * Flexible (easy to add/delete tables)\n",
    " * Reduced redundancy\n",
    " "
   ]
  },
  {
   "cell_type": "markdown",
   "metadata": {},
   "source": [
    "## Disadvantages\n",
    " * Sometimes slow and difficult to scale\n",
    " * Not ideal for storing hierarchical data\n",
    " * Must adhere to a fixed schema (bad for unstructured data)"
   ]
  },
  {
   "cell_type": "markdown",
   "metadata": {},
   "source": [
    "# Structured Query Language (SQL)"
   ]
  },
  {
   "cell_type": "markdown",
   "metadata": {},
   "source": [
    " * A language used to query data (and more!) from relational databases\n",
    " * Many different flavors depending on the database:\n",
    "     * Oracle\n",
    "     * Microsoft SQL\n",
    "     * MySQL\n",
    "     * etc."
   ]
  },
  {
   "cell_type": "markdown",
   "metadata": {},
   "source": [
    "## Database Tables\n",
    "\n",
    " * Every table has a name \n",
    " * Contains records (rows)"
   ]
  },
  {
   "cell_type": "code",
   "execution_count": null,
   "metadata": {},
   "outputs": [],
   "source": [
    "import sqlite3 # library for working with sqlite database\n",
    "conn = sqlite3.connect(\"./data/diabetes.db\") # Create a connection to the on-disk database"
   ]
  },
  {
   "cell_type": "code",
   "execution_count": null,
   "metadata": {},
   "outputs": [],
   "source": [
    "import pandas as pd"
   ]
  },
  {
   "cell_type": "markdown",
   "metadata": {},
   "source": [
    "#### Example Query"
   ]
  },
  {
   "cell_type": "code",
   "execution_count": null,
   "metadata": {},
   "outputs": [],
   "source": [
    "pd.read_sql(\"SELECT * FROM patient LIMIT 25\", conn)"
   ]
  },
  {
   "cell_type": "code",
   "execution_count": null,
   "metadata": {
    "scrolled": false
   },
   "outputs": [],
   "source": [
    "pd.read_sql(\"SELECT * FROM sqlite_master where type='table'\", conn)"
   ]
  },
  {
   "cell_type": "markdown",
   "metadata": {},
   "source": [
    "### SELECT clause"
   ]
  },
  {
   "cell_type": "markdown",
   "metadata": {},
   "source": [
    "```\n",
    "SELECT column_name1, column_name2 \n",
    "FROM table1```"
   ]
  },
  {
   "cell_type": "code",
   "execution_count": null,
   "metadata": {},
   "outputs": [],
   "source": [
    "pd.read_sql(\"SELECT race, gender FROM patient\", conn)"
   ]
  },
  {
   "cell_type": "markdown",
   "metadata": {},
   "source": [
    "#### SELECT DISTINCT"
   ]
  },
  {
   "cell_type": "markdown",
   "metadata": {},
   "source": [
    "returns unique values"
   ]
  },
  {
   "cell_type": "code",
   "execution_count": null,
   "metadata": {},
   "outputs": [],
   "source": [
    "pd.read_sql(\"SELECT DISTINCT race, gender FROM patient\", conn)"
   ]
  },
  {
   "cell_type": "markdown",
   "metadata": {},
   "source": [
    "### WHERE Clauses"
   ]
  },
  {
   "cell_type": "markdown",
   "metadata": {},
   "source": [
    "Where clauses allow you to *filter* data in your SQL query. There are many logical operators that you can use with the WHERE clase. Here is a simple one:"
   ]
  },
  {
   "cell_type": "code",
   "execution_count": null,
   "metadata": {},
   "outputs": [],
   "source": [
    "pd.read_sql(\"SELECT DISTINCT race, gender FROM patient WHERE race = 'Caucasian'\", conn)"
   ]
  },
  {
   "cell_type": "code",
   "execution_count": null,
   "metadata": {},
   "outputs": [],
   "source": [
    "pd.read_sql(\"SELECT patient_nbr FROM patient WHERE patient_nbr = 77586282\", conn)"
   ]
  },
  {
   "cell_type": "markdown",
   "metadata": {},
   "source": [
    "Here is a list of some operators you can use in your WHERE clause. \n",
    "\n",
    "![](./assets/WHEREclause.png)"
   ]
  },
  {
   "cell_type": "markdown",
   "metadata": {},
   "source": [
    "#### BETWEEN"
   ]
  },
  {
   "cell_type": "code",
   "execution_count": null,
   "metadata": {
    "scrolled": true
   },
   "outputs": [],
   "source": [
    "pd.read_sql(\"SELECT * FROM patient WHERE patient_nbr BETWEEN 10000 AND 99999\", conn)"
   ]
  },
  {
   "cell_type": "markdown",
   "metadata": {},
   "source": [
    "#### LIKE"
   ]
  },
  {
   "cell_type": "markdown",
   "metadata": {},
   "source": [
    "The `LIKE` operator lets you specify matches in text, much like regular expressions. However, it is considerably less powerful. The keys to know are the `%` and `_` operators.\n",
    "\n",
    "`%` represents 0, one, or many characters (Wildcard)\n",
    "\n",
    "`_` represents 1 character (Any)"
   ]
  },
  {
   "cell_type": "code",
   "execution_count": null,
   "metadata": {},
   "outputs": [],
   "source": [
    "pd.read_sql(\"SELECT DISTINCT race, gender FROM patient WHERE gender LIKE '%male'\", conn)"
   ]
  },
  {
   "cell_type": "code",
   "execution_count": null,
   "metadata": {},
   "outputs": [],
   "source": [
    "pd.read_sql(\"SELECT DISTINCT race, gender FROM patient WHERE gender LIKE '_male'\", conn)"
   ]
  },
  {
   "cell_type": "markdown",
   "metadata": {},
   "source": [
    "#### IN "
   ]
  },
  {
   "cell_type": "code",
   "execution_count": null,
   "metadata": {},
   "outputs": [],
   "source": [
    "pd.read_sql(\"SELECT DISTINCT race, gender FROM patient WHERE race in ('Caucasian', 'Hispanic')\", conn)"
   ]
  },
  {
   "cell_type": "markdown",
   "metadata": {},
   "source": [
    "### LOGIC (AND/OR/NOT)"
   ]
  },
  {
   "cell_type": "markdown",
   "metadata": {},
   "source": [
    "As you might imagine, you can create complex WHERE clauses by using the `AND`, `OR`, and `NOT` keywords. In addition, you can wrap the subclauses in parentheses to make sure that they execute together."
   ]
  },
  {
   "cell_type": "code",
   "execution_count": null,
   "metadata": {},
   "outputs": [],
   "source": [
    "pd.read_sql(\"\"\"SELECT DISTINCT race, gender \n",
    "                FROM patient \n",
    "                WHERE race in ('Caucasian', 'Hispanic')\n",
    "                    AND gender = 'Female'\n",
    "            \"\"\", conn)\n"
   ]
  },
  {
   "cell_type": "code",
   "execution_count": null,
   "metadata": {},
   "outputs": [],
   "source": [
    "pd.read_sql(\"\"\"SELECT DISTINCT race, gender \n",
    "                FROM patient \n",
    "                WHERE race in ('Caucasian', 'Hispanic')\n",
    "                    OR gender = 'Female'\n",
    "            \"\"\", conn)"
   ]
  },
  {
   "cell_type": "code",
   "execution_count": null,
   "metadata": {
    "scrolled": true
   },
   "outputs": [],
   "source": [
    "pd.read_sql(\"\"\"SELECT DISTINCT race, gender \n",
    "                FROM patient \n",
    "                WHERE race in ('Caucasian', 'Hispanic')\n",
    "                    OR NOT gender = 'Female'\n",
    "            \"\"\", conn)"
   ]
  },
  {
   "cell_type": "code",
   "execution_count": null,
   "metadata": {},
   "outputs": [],
   "source": [
    "pd.read_sql(\"\"\"SELECT DISTINCT race, gender\n",
    "                FROM patient\n",
    "                WHERE gender = 'Female' AND (race = 'Other' OR race = 'Asian')\n",
    "\"\"\", conn)"
   ]
  },
  {
   "cell_type": "markdown",
   "metadata": {},
   "source": [
    "### ORDER BY"
   ]
  },
  {
   "cell_type": "code",
   "execution_count": null,
   "metadata": {},
   "outputs": [],
   "source": [
    "pd.read_sql(\"\"\"SELECT patient_nbr, gender\n",
    "                FROM patient\n",
    "                ORDER BY patient_nbr\n",
    "\"\"\", conn)"
   ]
  },
  {
   "cell_type": "code",
   "execution_count": null,
   "metadata": {},
   "outputs": [],
   "source": [
    "pd.read_sql(\"\"\"SELECT patient_nbr, gender\n",
    "                FROM patient\n",
    "                ORDER BY patient_nbr DESC\n",
    "\"\"\", conn)"
   ]
  },
  {
   "cell_type": "markdown",
   "metadata": {},
   "source": [
    "### NULL values"
   ]
  },
  {
   "cell_type": "code",
   "execution_count": null,
   "metadata": {},
   "outputs": [],
   "source": [
    "pd.read_sql(\"\"\"SELECT patient_nbr, gender\n",
    "                FROM patient\n",
    "                WHERE gender IS NULL\n",
    "\"\"\", conn)"
   ]
  },
  {
   "cell_type": "code",
   "execution_count": null,
   "metadata": {},
   "outputs": [],
   "source": [
    "pd.read_sql(\"\"\"SELECT patient_nbr, gender\n",
    "                FROM patient\n",
    "                WHERE gender = NULL\n",
    "\"\"\", conn)"
   ]
  },
  {
   "cell_type": "code",
   "execution_count": null,
   "metadata": {
    "scrolled": true
   },
   "outputs": [],
   "source": [
    "pd.read_sql(\"\"\"SELECT patient_nbr, gender\n",
    "                FROM patient\n",
    "                WHERE gender IS NOT NULL\n",
    "\"\"\", conn)"
   ]
  },
  {
   "cell_type": "markdown",
   "metadata": {},
   "source": [
    "### Min, Max, Count, Avg, Sum"
   ]
  },
  {
   "cell_type": "markdown",
   "metadata": {},
   "source": [
    "SQL also has some built-in functions for summarizing data. For example, you can call `MIN(column_name)` and it will return the minimum of a column in a select statement"
   ]
  },
  {
   "cell_type": "code",
   "execution_count": null,
   "metadata": {
    "scrolled": true
   },
   "outputs": [],
   "source": [
    "pd.read_sql(\"\"\"SELECT MIN(num_medications), MAX(num_medications), AVG(num_medications)\n",
    "                FROM encounter\n",
    "\"\"\", conn)"
   ]
  },
  {
   "cell_type": "markdown",
   "metadata": {},
   "source": [
    "### Aliases"
   ]
  },
  {
   "cell_type": "markdown",
   "metadata": {},
   "source": [
    "Sometimes, SQL queries contain long table names, or column names, and it is easier to refer to them by another name, or alias. In addition, derived columns like those returned from MIN(), MAX(), etc. often look better when reformatted."
   ]
  },
  {
   "cell_type": "markdown",
   "metadata": {},
   "source": [
    "##### Column name alias"
   ]
  },
  {
   "cell_type": "code",
   "execution_count": null,
   "metadata": {},
   "outputs": [],
   "source": [
    "pd.read_sql(\"\"\"SELECT MIN(num_medications) as Minimum_medications, MAX(num_medications), AVG(num_medications)\n",
    "                FROM encounter\n",
    "\"\"\", conn)"
   ]
  },
  {
   "cell_type": "markdown",
   "metadata": {},
   "source": [
    "# Joining Tables"
   ]
  },
  {
   "cell_type": "markdown",
   "metadata": {},
   "source": [
    "The power of relational databases comes from their relation structure, which enables the user to merge tables together in order to combine information across tables."
   ]
  },
  {
   "cell_type": "code",
   "execution_count": null,
   "metadata": {
    "scrolled": true
   },
   "outputs": [],
   "source": [
    "pd.read_sql(\"\"\"SELECT *\n",
    "                FROM diagnosis\n",
    "                LIMIT 10\n",
    "\"\"\", conn)"
   ]
  },
  {
   "cell_type": "code",
   "execution_count": null,
   "metadata": {},
   "outputs": [],
   "source": [
    "pd.read_sql(\"\"\"SELECT \"ICD-9-CM CODE\"\n",
    "                FROM ccs_crosswalk\n",
    "                LIMIT 10\"\"\", conn)"
   ]
  },
  {
   "cell_type": "markdown",
   "metadata": {},
   "source": [
    "### 3 Important Types of Joins:"
   ]
  },
  {
   "cell_type": "markdown",
   "metadata": {},
   "source": [
    "### Inner Join"
   ]
  },
  {
   "cell_type": "markdown",
   "metadata": {},
   "source": [
    "![](./assets/innerjoin.png)"
   ]
  },
  {
   "cell_type": "markdown",
   "metadata": {},
   "source": [
    "As the figure above shows, an inner join takes only the values of the join columns that are in BOTH tables and returns the result"
   ]
  },
  {
   "cell_type": "code",
   "execution_count": null,
   "metadata": {},
   "outputs": [],
   "source": [
    "pd.read_sql(\"\"\"SELECT *\n",
    "                FROM diagnosis\n",
    "                INNER JOIN ccs_crosswalk ON diagnosis.diag_1 = ccs_crosswalk.\"ICD-9-CM CODE\"\n",
    "\"\"\", conn)"
   ]
  },
  {
   "cell_type": "markdown",
   "metadata": {},
   "source": [
    "### Left Join"
   ]
  },
  {
   "cell_type": "markdown",
   "metadata": {},
   "source": [
    "![](./assets/leftjoin.png)"
   ]
  },
  {
   "cell_type": "markdown",
   "metadata": {},
   "source": [
    "### Full Join (Full outer join)"
   ]
  },
  {
   "cell_type": "markdown",
   "metadata": {},
   "source": [
    "![](./assets/fulljoin.png)"
   ]
  },
  {
   "cell_type": "markdown",
   "metadata": {},
   "source": [
    "### Group By:\n",
    "Just like in Pandas, we have group by functionality in SQL as well."
   ]
  },
  {
   "cell_type": "code",
   "execution_count": null,
   "metadata": {},
   "outputs": [],
   "source": [
    "pd.read_sql(\"\"\"SELECT ccs_crosswalk.\"CCS CATEGORY DESCRIPTION\", count(ccs_crosswalk.\"CCS CATEGORY DESCRIPTION\")\n",
    "                FROM diagnosis\n",
    "                INNER JOIN ccs_crosswalk ON diagnosis.diag_1 = ccs_crosswalk.\"ICD-9-CM CODE\"\n",
    "                GROUP BY ccs_crosswalk.\"CCS CATEGORY DESCRIPTION\"\n",
    "\"\"\", conn)"
   ]
  },
  {
   "cell_type": "markdown",
   "metadata": {},
   "source": [
    "### Having"
   ]
  },
  {
   "cell_type": "code",
   "execution_count": null,
   "metadata": {
    "scrolled": false
   },
   "outputs": [],
   "source": [
    "pd.read_sql(\"\"\"SELECT ccs_crosswalk.\"CCS CATEGORY DESCRIPTION\", count(ccs_crosswalk.\"CCS CATEGORY DESCRIPTION\") \n",
    "                FROM diagnosis\n",
    "                INNER JOIN ccs_crosswalk ON diagnosis.diag_1 = ccs_crosswalk.\"ICD-9-CM CODE\"\n",
    "                GROUP BY ccs_crosswalk.\"CCS CATEGORY DESCRIPTION\"\n",
    "                HAVING count(ccs_crosswalk.\"CCS CATEGORY DESCRIPTION\") > 1000\n",
    "\"\"\", conn)"
   ]
  },
  {
   "cell_type": "markdown",
   "metadata": {},
   "source": [
    "### Case Statements"
   ]
  },
  {
   "cell_type": "code",
   "execution_count": null,
   "metadata": {},
   "outputs": [],
   "source": [
    "pd.read_sql(\"\"\"SELECT num_medications, \n",
    "                (CASE \n",
    "                    WHEN num_medications > 5 THEN \"Greater than 5 medications\"\n",
    "                    WHEN num_medications <= 5 THEN \"Less than or equal to 5 medications\"\n",
    "                END) AS GreaterThan5\n",
    "                FROM encounter\n",
    "\"\"\", conn)"
   ]
  },
  {
   "cell_type": "markdown",
   "metadata": {},
   "source": [
    "## Execution Order (https://sqlbolt.com/lesson/select_queries_order_of_execution)\n",
    "\n",
    "Under the hood, \n",
    "\n",
    "### 1. FROM and JOINs\n",
    "The FROM clause, and subsequent JOINs are first executed to determine the total working set of data that is being queried. This includes subqueries in this clause, and can cause temporary tables to be created under the hood containing all the columns and rows of the tables being joined.\n",
    "\n",
    "### 2. WHERE\n",
    "Once we have the total working set of data, the first-pass WHERE constraints are applied to the individual rows, and rows that do not satisfy the constraint are discarded. Each of the constraints can only access columns directly from the tables requested in the FROM clause. Aliases in the SELECT part of the query are not accessible in most databases since they may include expressions dependent on parts of the query that have not yet executed.\n",
    "\n",
    "### 3. GROUP BY\n",
    "The remaining rows after the WHERE constraints are applied are then grouped based on common values in the column specified in the GROUP BY clause. As a result of the grouping, there will only be as many rows as there are unique values in that column. Implicitly, this means that you should only need to use this when you have aggregate functions in your query.\n",
    "\n",
    "### 4. HAVING\n",
    "If the query has a GROUP BY clause, then the constraints in the HAVING clause are then applied to the grouped rows, discard the grouped rows that don't satisfy the constraint. Like the WHERE clause, aliases are also not accessible from this step in most databases.\n",
    "\n",
    "### 5. SELECT\n",
    "Any expressions in the SELECT part of the query are finally computed.\n",
    "\n",
    "### 6. DISTINCT\n",
    "Of the remaining rows, rows with duplicate values in the column marked as DISTINCT will be discarded.\n",
    "\n",
    "### 7. ORDER BY\n",
    "If an order is specified by the ORDER BY clause, the rows are then sorted by the specified data in either ascending or descending order. Since all the expressions in the SELECT part of the query have been computed, you can reference aliases in this clause.\n",
    "\n",
    "### 8. LIMIT / OFFSET\n",
    "Finally, the rows that fall outside the range specified by the LIMIT and OFFSET are discarded, leaving the final set of rows to be returned from the query."
   ]
  },
  {
   "cell_type": "markdown",
   "metadata": {
    "slideshow": {
     "slide_type": "subslide"
    }
   },
   "source": [
    "### And much, much more..."
   ]
  },
  {
   "cell_type": "markdown",
   "metadata": {},
   "source": [
    "### Resources:\n",
    "[Interactive SQL book](https://selectstarsql.com/)\n",
    "\n",
    "[Quick Reference](https://www.w3schools.com/sql/sql_quickref.asp)"
   ]
  },
  {
   "cell_type": "markdown",
   "metadata": {},
   "source": [
    "## In-class exercises:"
   ]
  },
  {
   "cell_type": "markdown",
   "metadata": {},
   "source": [
    "### Answer the following questions from HW2 with SQL statements instead of Pandas (answers my differ slightly due to preprocessing)"
   ]
  },
  {
   "cell_type": "markdown",
   "metadata": {},
   "source": [
    "**How many unique encounters are there? How many unique patients?**"
   ]
  },
  {
   "cell_type": "code",
   "execution_count": null,
   "metadata": {},
   "outputs": [],
   "source": []
  },
  {
   "cell_type": "markdown",
   "metadata": {},
   "source": [
    "**What is the most amount of encounters that a single patient has in the dataset?**"
   ]
  },
  {
   "cell_type": "code",
   "execution_count": null,
   "metadata": {},
   "outputs": [],
   "source": []
  },
  {
   "cell_type": "markdown",
   "metadata": {},
   "source": [
    "**What is the average number of labs administered by age category?**"
   ]
  },
  {
   "cell_type": "code",
   "execution_count": null,
   "metadata": {},
   "outputs": [],
   "source": []
  },
  {
   "cell_type": "markdown",
   "metadata": {},
   "source": [
    "**Create a new column that has the value of 1 if the medical specialty in that row contains the word Surgery and 0 otherwise** \n",
    "\n",
    "For this question, you can use the `LIKE` operator and `CASE` statements [Case Statements](https://www.w3schools.com/sql/sql_case.asp)"
   ]
  },
  {
   "cell_type": "code",
   "execution_count": null,
   "metadata": {},
   "outputs": [],
   "source": []
  }
 ],
 "metadata": {
  "kernelspec": {
   "display_name": "Python 3",
   "language": "python",
   "name": "python3"
  },
  "language_info": {
   "codemirror_mode": {
    "name": "ipython",
    "version": 3
   },
   "file_extension": ".py",
   "mimetype": "text/x-python",
   "name": "python",
   "nbconvert_exporter": "python",
   "pygments_lexer": "ipython3",
   "version": "3.7.2"
  }
 },
 "nbformat": 4,
 "nbformat_minor": 2
}
